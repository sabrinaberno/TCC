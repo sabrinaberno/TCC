{
 "cells": [
  {
   "cell_type": "markdown",
   "id": "22f1d898",
   "metadata": {},
   "source": [
    "# Modificações\n",
    "\n",
    "1. Ajustar o threshold\n",
    "Em vez de cortar a probabilidade em 0.5, podemos testar thresholds mais baixos (ex: 0.4 ou 0.35) para aumentar o recall da classe 1 (euploide).\n",
    "\n",
    "2. Aumentar o conjunto de dados\n",
    "17 exemplos de teste é muito pouco para uma avaliação robusta.\n",
    "\n",
    "3. Usar validação cruzada\n",
    "Podemos usar StratifiedKFold para melhor estimativa dos resultados, sem depender tanto de uma única divisão treino/teste.\n",
    "\n",
    "\n",
    "## Novidades incluídas:\n",
    "- Laço de treinamento inteligente (loop com tentativas)\n",
    "- Critérios de parada baseados em métricas:\n",
    "    - Accuracy ≥ 0.80\n",
    "    - Recall para classe 1 (Euploide) ≥ 0.75\n",
    "    - Recall para classe 0 (Aneuploide) ≥ 0.75\n",
    "    - AUC ≥ 0.85\n",
    "- Avaliação repetida em diferentes subconjuntos aleatórios dos dados\n",
    "- Mensagens automáticas para indicar o progresso e a tentativa que atingiu o critério"
   ]
  },
  {
   "cell_type": "code",
   "execution_count": 3,
   "id": "cdfa23bd",
   "metadata": {},
   "outputs": [
    {
     "name": "stdout",
     "output_type": "stream",
     "text": [
      "Dados de treino aumentados de 65 para 2015 amostras.\n"
     ]
    },
    {
     "name": "stderr",
     "output_type": "stream",
     "text": [
      "c:\\Users\\maria.ferreira\\AppData\\Local\\Programs\\Python\\Python310\\lib\\site-packages\\sklearn\\neural_network\\_multilayer_perceptron.py:691: ConvergenceWarning: Stochastic Optimizer: Maximum iterations (500) reached and the optimization hasn't converged yet.\n",
      "  warnings.warn(\n"
     ]
    },
    {
     "name": "stdout",
     "output_type": "stream",
     "text": [
      "Tentativa 1: accuracy=0.529, recall_1=0.250, recall_0=0.778, AUC=0.569\n"
     ]
    },
    {
     "name": "stderr",
     "output_type": "stream",
     "text": [
      "c:\\Users\\maria.ferreira\\AppData\\Local\\Programs\\Python\\Python310\\lib\\site-packages\\sklearn\\neural_network\\_multilayer_perceptron.py:691: ConvergenceWarning: Stochastic Optimizer: Maximum iterations (500) reached and the optimization hasn't converged yet.\n",
      "  warnings.warn(\n"
     ]
    },
    {
     "name": "stdout",
     "output_type": "stream",
     "text": [
      "Tentativa 2: accuracy=0.706, recall_1=0.875, recall_0=0.556, AUC=0.722\n"
     ]
    },
    {
     "name": "stderr",
     "output_type": "stream",
     "text": [
      "c:\\Users\\maria.ferreira\\AppData\\Local\\Programs\\Python\\Python310\\lib\\site-packages\\sklearn\\neural_network\\_multilayer_perceptron.py:691: ConvergenceWarning: Stochastic Optimizer: Maximum iterations (500) reached and the optimization hasn't converged yet.\n",
      "  warnings.warn(\n"
     ]
    },
    {
     "name": "stdout",
     "output_type": "stream",
     "text": [
      "Tentativa 3: accuracy=0.647, recall_1=0.625, recall_0=0.667, AUC=0.667\n"
     ]
    },
    {
     "name": "stderr",
     "output_type": "stream",
     "text": [
      "c:\\Users\\maria.ferreira\\AppData\\Local\\Programs\\Python\\Python310\\lib\\site-packages\\sklearn\\neural_network\\_multilayer_perceptron.py:691: ConvergenceWarning: Stochastic Optimizer: Maximum iterations (500) reached and the optimization hasn't converged yet.\n",
      "  warnings.warn(\n"
     ]
    },
    {
     "name": "stdout",
     "output_type": "stream",
     "text": [
      "Tentativa 4: accuracy=0.588, recall_1=0.625, recall_0=0.556, AUC=0.556\n"
     ]
    },
    {
     "name": "stderr",
     "output_type": "stream",
     "text": [
      "c:\\Users\\maria.ferreira\\AppData\\Local\\Programs\\Python\\Python310\\lib\\site-packages\\sklearn\\neural_network\\_multilayer_perceptron.py:691: ConvergenceWarning: Stochastic Optimizer: Maximum iterations (500) reached and the optimization hasn't converged yet.\n",
      "  warnings.warn(\n"
     ]
    },
    {
     "name": "stdout",
     "output_type": "stream",
     "text": [
      "Tentativa 5: accuracy=0.706, recall_1=0.625, recall_0=0.778, AUC=0.681\n"
     ]
    },
    {
     "name": "stderr",
     "output_type": "stream",
     "text": [
      "c:\\Users\\maria.ferreira\\AppData\\Local\\Programs\\Python\\Python310\\lib\\site-packages\\sklearn\\neural_network\\_multilayer_perceptron.py:691: ConvergenceWarning: Stochastic Optimizer: Maximum iterations (500) reached and the optimization hasn't converged yet.\n",
      "  warnings.warn(\n"
     ]
    },
    {
     "name": "stdout",
     "output_type": "stream",
     "text": [
      "Tentativa 6: accuracy=0.529, recall_1=0.375, recall_0=0.667, AUC=0.639\n"
     ]
    },
    {
     "name": "stderr",
     "output_type": "stream",
     "text": [
      "c:\\Users\\maria.ferreira\\AppData\\Local\\Programs\\Python\\Python310\\lib\\site-packages\\sklearn\\neural_network\\_multilayer_perceptron.py:691: ConvergenceWarning: Stochastic Optimizer: Maximum iterations (500) reached and the optimization hasn't converged yet.\n",
      "  warnings.warn(\n"
     ]
    },
    {
     "name": "stdout",
     "output_type": "stream",
     "text": [
      "Tentativa 7: accuracy=0.471, recall_1=0.375, recall_0=0.556, AUC=0.514\n"
     ]
    },
    {
     "name": "stderr",
     "output_type": "stream",
     "text": [
      "c:\\Users\\maria.ferreira\\AppData\\Local\\Programs\\Python\\Python310\\lib\\site-packages\\sklearn\\neural_network\\_multilayer_perceptron.py:691: ConvergenceWarning: Stochastic Optimizer: Maximum iterations (500) reached and the optimization hasn't converged yet.\n",
      "  warnings.warn(\n"
     ]
    },
    {
     "name": "stdout",
     "output_type": "stream",
     "text": [
      "Tentativa 8: accuracy=0.471, recall_1=0.250, recall_0=0.667, AUC=0.569\n"
     ]
    },
    {
     "name": "stderr",
     "output_type": "stream",
     "text": [
      "c:\\Users\\maria.ferreira\\AppData\\Local\\Programs\\Python\\Python310\\lib\\site-packages\\sklearn\\neural_network\\_multilayer_perceptron.py:691: ConvergenceWarning: Stochastic Optimizer: Maximum iterations (500) reached and the optimization hasn't converged yet.\n",
      "  warnings.warn(\n"
     ]
    },
    {
     "name": "stdout",
     "output_type": "stream",
     "text": [
      "Tentativa 9: accuracy=0.647, recall_1=0.625, recall_0=0.667, AUC=0.653\n"
     ]
    },
    {
     "name": "stderr",
     "output_type": "stream",
     "text": [
      "c:\\Users\\maria.ferreira\\AppData\\Local\\Programs\\Python\\Python310\\lib\\site-packages\\sklearn\\neural_network\\_multilayer_perceptron.py:691: ConvergenceWarning: Stochastic Optimizer: Maximum iterations (500) reached and the optimization hasn't converged yet.\n",
      "  warnings.warn(\n"
     ]
    },
    {
     "name": "stdout",
     "output_type": "stream",
     "text": [
      "Tentativa 10: accuracy=0.588, recall_1=0.750, recall_0=0.444, AUC=0.542\n"
     ]
    },
    {
     "name": "stderr",
     "output_type": "stream",
     "text": [
      "c:\\Users\\maria.ferreira\\AppData\\Local\\Programs\\Python\\Python310\\lib\\site-packages\\sklearn\\neural_network\\_multilayer_perceptron.py:691: ConvergenceWarning: Stochastic Optimizer: Maximum iterations (500) reached and the optimization hasn't converged yet.\n",
      "  warnings.warn(\n"
     ]
    },
    {
     "name": "stdout",
     "output_type": "stream",
     "text": [
      "Tentativa 11: accuracy=0.471, recall_1=0.250, recall_0=0.667, AUC=0.597\n"
     ]
    },
    {
     "name": "stderr",
     "output_type": "stream",
     "text": [
      "c:\\Users\\maria.ferreira\\AppData\\Local\\Programs\\Python\\Python310\\lib\\site-packages\\sklearn\\neural_network\\_multilayer_perceptron.py:691: ConvergenceWarning: Stochastic Optimizer: Maximum iterations (500) reached and the optimization hasn't converged yet.\n",
      "  warnings.warn(\n"
     ]
    },
    {
     "name": "stdout",
     "output_type": "stream",
     "text": [
      "Tentativa 12: accuracy=0.588, recall_1=0.625, recall_0=0.556, AUC=0.597\n"
     ]
    },
    {
     "name": "stderr",
     "output_type": "stream",
     "text": [
      "c:\\Users\\maria.ferreira\\AppData\\Local\\Programs\\Python\\Python310\\lib\\site-packages\\sklearn\\neural_network\\_multilayer_perceptron.py:691: ConvergenceWarning: Stochastic Optimizer: Maximum iterations (500) reached and the optimization hasn't converged yet.\n",
      "  warnings.warn(\n"
     ]
    },
    {
     "name": "stdout",
     "output_type": "stream",
     "text": [
      "Tentativa 13: accuracy=0.824, recall_1=0.625, recall_0=1.000, AUC=0.889\n"
     ]
    },
    {
     "name": "stderr",
     "output_type": "stream",
     "text": [
      "c:\\Users\\maria.ferreira\\AppData\\Local\\Programs\\Python\\Python310\\lib\\site-packages\\sklearn\\neural_network\\_multilayer_perceptron.py:691: ConvergenceWarning: Stochastic Optimizer: Maximum iterations (500) reached and the optimization hasn't converged yet.\n",
      "  warnings.warn(\n"
     ]
    },
    {
     "name": "stdout",
     "output_type": "stream",
     "text": [
      "Tentativa 14: accuracy=0.706, recall_1=0.625, recall_0=0.778, AUC=0.722\n"
     ]
    },
    {
     "name": "stderr",
     "output_type": "stream",
     "text": [
      "c:\\Users\\maria.ferreira\\AppData\\Local\\Programs\\Python\\Python310\\lib\\site-packages\\sklearn\\neural_network\\_multilayer_perceptron.py:691: ConvergenceWarning: Stochastic Optimizer: Maximum iterations (500) reached and the optimization hasn't converged yet.\n",
      "  warnings.warn(\n"
     ]
    },
    {
     "name": "stdout",
     "output_type": "stream",
     "text": [
      "Tentativa 15: accuracy=0.647, recall_1=0.500, recall_0=0.778, AUC=0.597\n"
     ]
    },
    {
     "name": "stderr",
     "output_type": "stream",
     "text": [
      "c:\\Users\\maria.ferreira\\AppData\\Local\\Programs\\Python\\Python310\\lib\\site-packages\\sklearn\\neural_network\\_multilayer_perceptron.py:691: ConvergenceWarning: Stochastic Optimizer: Maximum iterations (500) reached and the optimization hasn't converged yet.\n",
      "  warnings.warn(\n"
     ]
    },
    {
     "name": "stdout",
     "output_type": "stream",
     "text": [
      "Tentativa 16: accuracy=0.529, recall_1=0.500, recall_0=0.556, AUC=0.528\n"
     ]
    },
    {
     "name": "stderr",
     "output_type": "stream",
     "text": [
      "c:\\Users\\maria.ferreira\\AppData\\Local\\Programs\\Python\\Python310\\lib\\site-packages\\sklearn\\neural_network\\_multilayer_perceptron.py:691: ConvergenceWarning: Stochastic Optimizer: Maximum iterations (500) reached and the optimization hasn't converged yet.\n",
      "  warnings.warn(\n"
     ]
    },
    {
     "name": "stdout",
     "output_type": "stream",
     "text": [
      "Tentativa 17: accuracy=0.647, recall_1=0.625, recall_0=0.667, AUC=0.708\n"
     ]
    },
    {
     "name": "stderr",
     "output_type": "stream",
     "text": [
      "c:\\Users\\maria.ferreira\\AppData\\Local\\Programs\\Python\\Python310\\lib\\site-packages\\sklearn\\neural_network\\_multilayer_perceptron.py:691: ConvergenceWarning: Stochastic Optimizer: Maximum iterations (500) reached and the optimization hasn't converged yet.\n",
      "  warnings.warn(\n"
     ]
    },
    {
     "name": "stdout",
     "output_type": "stream",
     "text": [
      "Tentativa 18: accuracy=0.588, recall_1=0.500, recall_0=0.667, AUC=0.681\n"
     ]
    },
    {
     "name": "stderr",
     "output_type": "stream",
     "text": [
      "c:\\Users\\maria.ferreira\\AppData\\Local\\Programs\\Python\\Python310\\lib\\site-packages\\sklearn\\neural_network\\_multilayer_perceptron.py:691: ConvergenceWarning: Stochastic Optimizer: Maximum iterations (500) reached and the optimization hasn't converged yet.\n",
      "  warnings.warn(\n"
     ]
    },
    {
     "name": "stdout",
     "output_type": "stream",
     "text": [
      "Tentativa 19: accuracy=0.647, recall_1=0.625, recall_0=0.667, AUC=0.681\n"
     ]
    },
    {
     "name": "stderr",
     "output_type": "stream",
     "text": [
      "c:\\Users\\maria.ferreira\\AppData\\Local\\Programs\\Python\\Python310\\lib\\site-packages\\sklearn\\neural_network\\_multilayer_perceptron.py:691: ConvergenceWarning: Stochastic Optimizer: Maximum iterations (500) reached and the optimization hasn't converged yet.\n",
      "  warnings.warn(\n"
     ]
    },
    {
     "name": "stdout",
     "output_type": "stream",
     "text": [
      "Tentativa 20: accuracy=0.647, recall_1=0.625, recall_0=0.667, AUC=0.639\n"
     ]
    },
    {
     "name": "stderr",
     "output_type": "stream",
     "text": [
      "c:\\Users\\maria.ferreira\\AppData\\Local\\Programs\\Python\\Python310\\lib\\site-packages\\sklearn\\neural_network\\_multilayer_perceptron.py:691: ConvergenceWarning: Stochastic Optimizer: Maximum iterations (500) reached and the optimization hasn't converged yet.\n",
      "  warnings.warn(\n"
     ]
    },
    {
     "name": "stdout",
     "output_type": "stream",
     "text": [
      "Tentativa 21: accuracy=0.882, recall_1=1.000, recall_0=0.778, AUC=0.847\n"
     ]
    },
    {
     "name": "stderr",
     "output_type": "stream",
     "text": [
      "c:\\Users\\maria.ferreira\\AppData\\Local\\Programs\\Python\\Python310\\lib\\site-packages\\sklearn\\neural_network\\_multilayer_perceptron.py:691: ConvergenceWarning: Stochastic Optimizer: Maximum iterations (500) reached and the optimization hasn't converged yet.\n",
      "  warnings.warn(\n"
     ]
    },
    {
     "name": "stdout",
     "output_type": "stream",
     "text": [
      "Tentativa 22: accuracy=0.529, recall_1=0.375, recall_0=0.667, AUC=0.639\n"
     ]
    },
    {
     "name": "stderr",
     "output_type": "stream",
     "text": [
      "c:\\Users\\maria.ferreira\\AppData\\Local\\Programs\\Python\\Python310\\lib\\site-packages\\sklearn\\neural_network\\_multilayer_perceptron.py:691: ConvergenceWarning: Stochastic Optimizer: Maximum iterations (500) reached and the optimization hasn't converged yet.\n",
      "  warnings.warn(\n"
     ]
    },
    {
     "name": "stdout",
     "output_type": "stream",
     "text": [
      "Tentativa 23: accuracy=0.647, recall_1=0.500, recall_0=0.778, AUC=0.792\n"
     ]
    },
    {
     "name": "stderr",
     "output_type": "stream",
     "text": [
      "c:\\Users\\maria.ferreira\\AppData\\Local\\Programs\\Python\\Python310\\lib\\site-packages\\sklearn\\neural_network\\_multilayer_perceptron.py:691: ConvergenceWarning: Stochastic Optimizer: Maximum iterations (500) reached and the optimization hasn't converged yet.\n",
      "  warnings.warn(\n"
     ]
    },
    {
     "name": "stdout",
     "output_type": "stream",
     "text": [
      "Tentativa 24: accuracy=0.588, recall_1=0.500, recall_0=0.667, AUC=0.625\n"
     ]
    },
    {
     "name": "stderr",
     "output_type": "stream",
     "text": [
      "c:\\Users\\maria.ferreira\\AppData\\Local\\Programs\\Python\\Python310\\lib\\site-packages\\sklearn\\neural_network\\_multilayer_perceptron.py:691: ConvergenceWarning: Stochastic Optimizer: Maximum iterations (500) reached and the optimization hasn't converged yet.\n",
      "  warnings.warn(\n"
     ]
    },
    {
     "name": "stdout",
     "output_type": "stream",
     "text": [
      "Tentativa 25: accuracy=0.824, recall_1=1.000, recall_0=0.667, AUC=0.889\n"
     ]
    },
    {
     "name": "stderr",
     "output_type": "stream",
     "text": [
      "c:\\Users\\maria.ferreira\\AppData\\Local\\Programs\\Python\\Python310\\lib\\site-packages\\sklearn\\neural_network\\_multilayer_perceptron.py:691: ConvergenceWarning: Stochastic Optimizer: Maximum iterations (500) reached and the optimization hasn't converged yet.\n",
      "  warnings.warn(\n"
     ]
    },
    {
     "name": "stdout",
     "output_type": "stream",
     "text": [
      "Tentativa 26: accuracy=0.706, recall_1=0.625, recall_0=0.778, AUC=0.708\n"
     ]
    },
    {
     "name": "stderr",
     "output_type": "stream",
     "text": [
      "c:\\Users\\maria.ferreira\\AppData\\Local\\Programs\\Python\\Python310\\lib\\site-packages\\sklearn\\neural_network\\_multilayer_perceptron.py:691: ConvergenceWarning: Stochastic Optimizer: Maximum iterations (500) reached and the optimization hasn't converged yet.\n",
      "  warnings.warn(\n"
     ]
    },
    {
     "name": "stdout",
     "output_type": "stream",
     "text": [
      "Tentativa 27: accuracy=0.647, recall_1=0.500, recall_0=0.778, AUC=0.583\n"
     ]
    },
    {
     "name": "stderr",
     "output_type": "stream",
     "text": [
      "c:\\Users\\maria.ferreira\\AppData\\Local\\Programs\\Python\\Python310\\lib\\site-packages\\sklearn\\neural_network\\_multilayer_perceptron.py:691: ConvergenceWarning: Stochastic Optimizer: Maximum iterations (500) reached and the optimization hasn't converged yet.\n",
      "  warnings.warn(\n"
     ]
    },
    {
     "name": "stdout",
     "output_type": "stream",
     "text": [
      "Tentativa 28: accuracy=0.588, recall_1=0.500, recall_0=0.667, AUC=0.597\n"
     ]
    },
    {
     "name": "stderr",
     "output_type": "stream",
     "text": [
      "c:\\Users\\maria.ferreira\\AppData\\Local\\Programs\\Python\\Python310\\lib\\site-packages\\sklearn\\neural_network\\_multilayer_perceptron.py:691: ConvergenceWarning: Stochastic Optimizer: Maximum iterations (500) reached and the optimization hasn't converged yet.\n",
      "  warnings.warn(\n"
     ]
    },
    {
     "name": "stdout",
     "output_type": "stream",
     "text": [
      "Tentativa 29: accuracy=0.588, recall_1=0.500, recall_0=0.667, AUC=0.694\n"
     ]
    },
    {
     "name": "stderr",
     "output_type": "stream",
     "text": [
      "c:\\Users\\maria.ferreira\\AppData\\Local\\Programs\\Python\\Python310\\lib\\site-packages\\sklearn\\neural_network\\_multilayer_perceptron.py:691: ConvergenceWarning: Stochastic Optimizer: Maximum iterations (500) reached and the optimization hasn't converged yet.\n",
      "  warnings.warn(\n"
     ]
    },
    {
     "name": "stdout",
     "output_type": "stream",
     "text": [
      "Tentativa 30: accuracy=0.471, recall_1=0.375, recall_0=0.556, AUC=0.556\n"
     ]
    },
    {
     "name": "stderr",
     "output_type": "stream",
     "text": [
      "c:\\Users\\maria.ferreira\\AppData\\Local\\Programs\\Python\\Python310\\lib\\site-packages\\sklearn\\neural_network\\_multilayer_perceptron.py:691: ConvergenceWarning: Stochastic Optimizer: Maximum iterations (500) reached and the optimization hasn't converged yet.\n",
      "  warnings.warn(\n"
     ]
    },
    {
     "name": "stdout",
     "output_type": "stream",
     "text": [
      "Tentativa 31: accuracy=0.647, recall_1=0.375, recall_0=0.889, AUC=0.764\n"
     ]
    },
    {
     "name": "stderr",
     "output_type": "stream",
     "text": [
      "c:\\Users\\maria.ferreira\\AppData\\Local\\Programs\\Python\\Python310\\lib\\site-packages\\sklearn\\neural_network\\_multilayer_perceptron.py:691: ConvergenceWarning: Stochastic Optimizer: Maximum iterations (500) reached and the optimization hasn't converged yet.\n",
      "  warnings.warn(\n"
     ]
    },
    {
     "name": "stdout",
     "output_type": "stream",
     "text": [
      "Tentativa 32: accuracy=0.706, recall_1=0.625, recall_0=0.778, AUC=0.694\n"
     ]
    },
    {
     "name": "stderr",
     "output_type": "stream",
     "text": [
      "c:\\Users\\maria.ferreira\\AppData\\Local\\Programs\\Python\\Python310\\lib\\site-packages\\sklearn\\neural_network\\_multilayer_perceptron.py:691: ConvergenceWarning: Stochastic Optimizer: Maximum iterations (500) reached and the optimization hasn't converged yet.\n",
      "  warnings.warn(\n"
     ]
    },
    {
     "name": "stdout",
     "output_type": "stream",
     "text": [
      "Tentativa 33: accuracy=0.765, recall_1=0.750, recall_0=0.778, AUC=0.778\n"
     ]
    },
    {
     "name": "stderr",
     "output_type": "stream",
     "text": [
      "c:\\Users\\maria.ferreira\\AppData\\Local\\Programs\\Python\\Python310\\lib\\site-packages\\sklearn\\neural_network\\_multilayer_perceptron.py:691: ConvergenceWarning: Stochastic Optimizer: Maximum iterations (500) reached and the optimization hasn't converged yet.\n",
      "  warnings.warn(\n"
     ]
    },
    {
     "name": "stdout",
     "output_type": "stream",
     "text": [
      "Tentativa 34: accuracy=0.412, recall_1=0.250, recall_0=0.556, AUC=0.458\n"
     ]
    },
    {
     "name": "stderr",
     "output_type": "stream",
     "text": [
      "c:\\Users\\maria.ferreira\\AppData\\Local\\Programs\\Python\\Python310\\lib\\site-packages\\sklearn\\neural_network\\_multilayer_perceptron.py:691: ConvergenceWarning: Stochastic Optimizer: Maximum iterations (500) reached and the optimization hasn't converged yet.\n",
      "  warnings.warn(\n"
     ]
    },
    {
     "name": "stdout",
     "output_type": "stream",
     "text": [
      "Tentativa 35: accuracy=0.588, recall_1=0.500, recall_0=0.667, AUC=0.583\n"
     ]
    },
    {
     "name": "stderr",
     "output_type": "stream",
     "text": [
      "c:\\Users\\maria.ferreira\\AppData\\Local\\Programs\\Python\\Python310\\lib\\site-packages\\sklearn\\neural_network\\_multilayer_perceptron.py:691: ConvergenceWarning: Stochastic Optimizer: Maximum iterations (500) reached and the optimization hasn't converged yet.\n",
      "  warnings.warn(\n"
     ]
    },
    {
     "name": "stdout",
     "output_type": "stream",
     "text": [
      "Tentativa 36: accuracy=0.471, recall_1=0.250, recall_0=0.667, AUC=0.611\n"
     ]
    },
    {
     "name": "stderr",
     "output_type": "stream",
     "text": [
      "c:\\Users\\maria.ferreira\\AppData\\Local\\Programs\\Python\\Python310\\lib\\site-packages\\sklearn\\neural_network\\_multilayer_perceptron.py:691: ConvergenceWarning: Stochastic Optimizer: Maximum iterations (500) reached and the optimization hasn't converged yet.\n",
      "  warnings.warn(\n"
     ]
    },
    {
     "name": "stdout",
     "output_type": "stream",
     "text": [
      "Tentativa 37: accuracy=0.412, recall_1=0.250, recall_0=0.556, AUC=0.403\n"
     ]
    },
    {
     "name": "stderr",
     "output_type": "stream",
     "text": [
      "c:\\Users\\maria.ferreira\\AppData\\Local\\Programs\\Python\\Python310\\lib\\site-packages\\sklearn\\neural_network\\_multilayer_perceptron.py:691: ConvergenceWarning: Stochastic Optimizer: Maximum iterations (500) reached and the optimization hasn't converged yet.\n",
      "  warnings.warn(\n"
     ]
    },
    {
     "name": "stdout",
     "output_type": "stream",
     "text": [
      "Tentativa 38: accuracy=0.647, recall_1=0.500, recall_0=0.778, AUC=0.722\n"
     ]
    },
    {
     "name": "stderr",
     "output_type": "stream",
     "text": [
      "c:\\Users\\maria.ferreira\\AppData\\Local\\Programs\\Python\\Python310\\lib\\site-packages\\sklearn\\neural_network\\_multilayer_perceptron.py:691: ConvergenceWarning: Stochastic Optimizer: Maximum iterations (500) reached and the optimization hasn't converged yet.\n",
      "  warnings.warn(\n"
     ]
    },
    {
     "name": "stdout",
     "output_type": "stream",
     "text": [
      "Tentativa 39: accuracy=0.588, recall_1=0.625, recall_0=0.556, AUC=0.681\n"
     ]
    },
    {
     "name": "stderr",
     "output_type": "stream",
     "text": [
      "c:\\Users\\maria.ferreira\\AppData\\Local\\Programs\\Python\\Python310\\lib\\site-packages\\sklearn\\neural_network\\_multilayer_perceptron.py:691: ConvergenceWarning: Stochastic Optimizer: Maximum iterations (500) reached and the optimization hasn't converged yet.\n",
      "  warnings.warn(\n"
     ]
    },
    {
     "name": "stdout",
     "output_type": "stream",
     "text": [
      "Tentativa 40: accuracy=0.412, recall_1=0.125, recall_0=0.667, AUC=0.528\n"
     ]
    },
    {
     "name": "stderr",
     "output_type": "stream",
     "text": [
      "c:\\Users\\maria.ferreira\\AppData\\Local\\Programs\\Python\\Python310\\lib\\site-packages\\sklearn\\neural_network\\_multilayer_perceptron.py:691: ConvergenceWarning: Stochastic Optimizer: Maximum iterations (500) reached and the optimization hasn't converged yet.\n",
      "  warnings.warn(\n"
     ]
    },
    {
     "name": "stdout",
     "output_type": "stream",
     "text": [
      "Tentativa 41: accuracy=0.706, recall_1=0.625, recall_0=0.778, AUC=0.694\n"
     ]
    },
    {
     "name": "stderr",
     "output_type": "stream",
     "text": [
      "c:\\Users\\maria.ferreira\\AppData\\Local\\Programs\\Python\\Python310\\lib\\site-packages\\sklearn\\neural_network\\_multilayer_perceptron.py:691: ConvergenceWarning: Stochastic Optimizer: Maximum iterations (500) reached and the optimization hasn't converged yet.\n",
      "  warnings.warn(\n"
     ]
    },
    {
     "name": "stdout",
     "output_type": "stream",
     "text": [
      "Tentativa 42: accuracy=0.529, recall_1=0.375, recall_0=0.667, AUC=0.597\n"
     ]
    },
    {
     "name": "stderr",
     "output_type": "stream",
     "text": [
      "c:\\Users\\maria.ferreira\\AppData\\Local\\Programs\\Python\\Python310\\lib\\site-packages\\sklearn\\neural_network\\_multilayer_perceptron.py:691: ConvergenceWarning: Stochastic Optimizer: Maximum iterations (500) reached and the optimization hasn't converged yet.\n",
      "  warnings.warn(\n"
     ]
    },
    {
     "name": "stdout",
     "output_type": "stream",
     "text": [
      "Tentativa 43: accuracy=0.529, recall_1=0.500, recall_0=0.556, AUC=0.528\n"
     ]
    },
    {
     "name": "stderr",
     "output_type": "stream",
     "text": [
      "c:\\Users\\maria.ferreira\\AppData\\Local\\Programs\\Python\\Python310\\lib\\site-packages\\sklearn\\neural_network\\_multilayer_perceptron.py:691: ConvergenceWarning: Stochastic Optimizer: Maximum iterations (500) reached and the optimization hasn't converged yet.\n",
      "  warnings.warn(\n"
     ]
    },
    {
     "name": "stdout",
     "output_type": "stream",
     "text": [
      "Tentativa 44: accuracy=0.588, recall_1=0.375, recall_0=0.778, AUC=0.556\n"
     ]
    },
    {
     "name": "stderr",
     "output_type": "stream",
     "text": [
      "c:\\Users\\maria.ferreira\\AppData\\Local\\Programs\\Python\\Python310\\lib\\site-packages\\sklearn\\neural_network\\_multilayer_perceptron.py:691: ConvergenceWarning: Stochastic Optimizer: Maximum iterations (500) reached and the optimization hasn't converged yet.\n",
      "  warnings.warn(\n"
     ]
    },
    {
     "name": "stdout",
     "output_type": "stream",
     "text": [
      "Tentativa 45: accuracy=0.529, recall_1=0.500, recall_0=0.556, AUC=0.569\n"
     ]
    },
    {
     "name": "stderr",
     "output_type": "stream",
     "text": [
      "c:\\Users\\maria.ferreira\\AppData\\Local\\Programs\\Python\\Python310\\lib\\site-packages\\sklearn\\neural_network\\_multilayer_perceptron.py:691: ConvergenceWarning: Stochastic Optimizer: Maximum iterations (500) reached and the optimization hasn't converged yet.\n",
      "  warnings.warn(\n"
     ]
    },
    {
     "name": "stdout",
     "output_type": "stream",
     "text": [
      "Tentativa 46: accuracy=0.647, recall_1=0.625, recall_0=0.667, AUC=0.736\n"
     ]
    },
    {
     "name": "stderr",
     "output_type": "stream",
     "text": [
      "c:\\Users\\maria.ferreira\\AppData\\Local\\Programs\\Python\\Python310\\lib\\site-packages\\sklearn\\neural_network\\_multilayer_perceptron.py:691: ConvergenceWarning: Stochastic Optimizer: Maximum iterations (500) reached and the optimization hasn't converged yet.\n",
      "  warnings.warn(\n"
     ]
    },
    {
     "name": "stdout",
     "output_type": "stream",
     "text": [
      "Tentativa 47: accuracy=0.588, recall_1=0.500, recall_0=0.667, AUC=0.611\n"
     ]
    },
    {
     "name": "stderr",
     "output_type": "stream",
     "text": [
      "c:\\Users\\maria.ferreira\\AppData\\Local\\Programs\\Python\\Python310\\lib\\site-packages\\sklearn\\neural_network\\_multilayer_perceptron.py:691: ConvergenceWarning: Stochastic Optimizer: Maximum iterations (500) reached and the optimization hasn't converged yet.\n",
      "  warnings.warn(\n"
     ]
    },
    {
     "name": "stdout",
     "output_type": "stream",
     "text": [
      "Tentativa 48: accuracy=0.647, recall_1=0.500, recall_0=0.778, AUC=0.639\n"
     ]
    },
    {
     "name": "stderr",
     "output_type": "stream",
     "text": [
      "c:\\Users\\maria.ferreira\\AppData\\Local\\Programs\\Python\\Python310\\lib\\site-packages\\sklearn\\neural_network\\_multilayer_perceptron.py:691: ConvergenceWarning: Stochastic Optimizer: Maximum iterations (500) reached and the optimization hasn't converged yet.\n",
      "  warnings.warn(\n"
     ]
    },
    {
     "name": "stdout",
     "output_type": "stream",
     "text": [
      "Tentativa 49: accuracy=0.588, recall_1=0.375, recall_0=0.778, AUC=0.625\n"
     ]
    },
    {
     "name": "stderr",
     "output_type": "stream",
     "text": [
      "c:\\Users\\maria.ferreira\\AppData\\Local\\Programs\\Python\\Python310\\lib\\site-packages\\sklearn\\neural_network\\_multilayer_perceptron.py:691: ConvergenceWarning: Stochastic Optimizer: Maximum iterations (500) reached and the optimization hasn't converged yet.\n",
      "  warnings.warn(\n"
     ]
    },
    {
     "name": "stdout",
     "output_type": "stream",
     "text": [
      "Tentativa 50: accuracy=0.294, recall_1=0.250, recall_0=0.333, AUC=0.403\n",
      "\n",
      "Não foi possível alcançar todos os critérios dentro do número máximo de tentativas.\n",
      "\n",
      "=== RELATÓRIO DE CLASSIFICAÇÃO FINAL ===\n",
      "              precision    recall  f1-score   support\n",
      "\n",
      "           0       0.33      0.33      0.33         9\n",
      "           1       0.25      0.25      0.25         8\n",
      "\n",
      "    accuracy                           0.29        17\n",
      "   macro avg       0.29      0.29      0.29        17\n",
      "weighted avg       0.29      0.29      0.29        17\n",
      "\n"
     ]
    },
    {
     "data": {
      "image/png": "[encoded data removed]",
      "text/plain": [
       "<Figure size 600x500 with 2 Axes>"
      ]
     },
     "metadata": {},
     "output_type": "display_data"
    },
    {
     "data": {
      "image/png": "[encoded data removed]",
      "text/plain": [
       "<Figure size 640x480 with 1 Axes>"
      ]
     },
     "metadata": {},
     "output_type": "display_data"
    }
   ],
   "source": [
    "import pandas as pd\n",
    "import numpy as np\n",
    "from sklearn.model_selection import train_test_split\n",
    "from sklearn.preprocessing import StandardScaler\n",
    "from sklearn.neural_network import MLPClassifier\n",
    "from sklearn.metrics import classification_report, confusion_matrix, roc_auc_score, roc_curve, recall_score, accuracy_score\n",
    "import matplotlib.pyplot as plt\n",
    "import seaborn as sns\n",
    "\n",
    "# 1. Carregar os dados da planilha original\n",
    "path = r\"PlanilhaNumerica.xlsx\"\n",
    "df = pd.read_excel(path)\n",
    "\n",
    "col_alvo = \"Ploidia\"\n",
    "\n",
    "# 2. Dividir em treino e teste\n",
    "X = df.drop(columns=[col_alvo])\n",
    "y = df[col_alvo]\n",
    "X_train, X_test, y_train, y_test = train_test_split(\n",
    "    X, y, test_size=0.2, random_state=42, stratify=y\n",
    ")\n",
    "\n",
    "# 3. Data Augmentation só no treino\n",
    "df_train = X_train.copy()\n",
    "df_train[col_alvo] = y_train.values\n",
    "\n",
    "numerical_columns = df_train.select_dtypes(include=['float64', 'int64']).columns.drop(col_alvo)\n",
    "categorical_columns = df_train.select_dtypes(include=['object']).columns.tolist() + [col_alvo]\n",
    "\n",
    "augmentation_factor = 30\n",
    "num_new_samples = len(df_train) * augmentation_factor\n",
    "\n",
    "new_samples = {}\n",
    "for col in numerical_columns:\n",
    "    mean = df_train[col].mean()\n",
    "    std = df_train[col].std()\n",
    "    generated = np.random.normal(loc=mean, scale=std, size=num_new_samples)\n",
    "    new_samples[col] = np.clip(generated, df_train[col].min(), df_train[col].max())\n",
    "\n",
    "df_new_samples = pd.DataFrame(new_samples)\n",
    "\n",
    "for col in categorical_columns:\n",
    "    df_new_samples[col] = np.random.choice(df_train[col], size=num_new_samples, replace=True)\n",
    "\n",
    "df_train_augmented = pd.concat([df_train, df_new_samples], ignore_index=True)\n",
    "\n",
    "print(f\"Dados de treino aumentados de {len(df_train)} para {len(df_train_augmented)} amostras.\")\n",
    "\n",
    "# 4. Pré-processamento: normalizar treino aumentado e teste (com scaler do treino)\n",
    "scaler = StandardScaler()\n",
    "X_train_scaled = scaler.fit_transform(df_train_augmented.drop(columns=[col_alvo]))\n",
    "y_train_aug = df_train_augmented[col_alvo].values\n",
    "\n",
    "X_test_scaled = scaler.transform(X_test)\n",
    "\n",
    "# 5. Treinamento e avaliação com critérios de parada (igual antes)\n",
    "\n",
    "target_accuracy = 0.80\n",
    "target_recall_class1 = 0.75  # Euploide (1)\n",
    "target_recall_class0 = 0.75  # Aneuploide (0)\n",
    "target_auc = 0.85\n",
    "\n",
    "max_attempts = 50\n",
    "attempt = 0\n",
    "\n",
    "best_metrics = {\n",
    "    \"accuracy\": 0,\n",
    "    \"recall_1\": 0,\n",
    "    \"recall_0\": 0,\n",
    "    \"auc\": 0\n",
    "}\n",
    "\n",
    "while attempt < max_attempts:\n",
    "    attempt += 1\n",
    "\n",
    "    # Aqui a divisão treino/teste já feita; só re-treina modelo para validar robustez com random_state diferente no modelo\n",
    "    modelo = MLPClassifier(hidden_layer_sizes=(32, 16), max_iter=500, activation='relu', solver='adam', random_state=attempt)\n",
    "    modelo.fit(X_train_scaled, y_train_aug)\n",
    "\n",
    "    y_pred = modelo.predict(X_test_scaled)\n",
    "    y_proba = modelo.predict_proba(X_test_scaled)[:, 1]\n",
    "\n",
    "    accuracy = accuracy_score(y_test, y_pred)\n",
    "    recall_1 = recall_score(y_test, y_pred, pos_label=1)\n",
    "    recall_0 = recall_score(y_test, y_pred, pos_label=0)\n",
    "    auc = roc_auc_score(y_test, y_proba)\n",
    "\n",
    "    # Salvar melhores métricas\n",
    "    if accuracy > best_metrics[\"accuracy\"]:\n",
    "        best_metrics[\"accuracy\"] = accuracy\n",
    "    if recall_1 > best_metrics[\"recall_1\"]:\n",
    "        best_metrics[\"recall_1\"] = recall_1\n",
    "    if recall_0 > best_metrics[\"recall_0\"]:\n",
    "        best_metrics[\"recall_0\"] = recall_0\n",
    "    if auc > best_metrics[\"auc\"]:\n",
    "        best_metrics[\"auc\"] = auc\n",
    "\n",
    "    print(f\"Tentativa {attempt}: accuracy={accuracy:.3f}, recall_1={recall_1:.3f}, recall_0={recall_0:.3f}, AUC={auc:.3f}\")\n",
    "\n",
    "    if (accuracy >= target_accuracy and\n",
    "        recall_1 >= target_recall_class1 and\n",
    "        recall_0 >= target_recall_class0 and\n",
    "        auc >= target_auc):\n",
    "        print(f\"\\nCritérios alcançados na tentativa {attempt}!\")\n",
    "        break\n",
    "else:\n",
    "    print(\"\\nNão foi possível alcançar todos os critérios dentro do número máximo de tentativas.\")\n",
    "\n",
    "print(\"\\n=== RELATÓRIO DE CLASSIFICAÇÃO FINAL ===\")\n",
    "print(classification_report(y_test, y_pred))\n",
    "\n",
    "cm = confusion_matrix(y_test, y_pred)\n",
    "plt.figure(figsize=(6, 5))\n",
    "sns.heatmap(cm, annot=True, fmt='d', cmap='Blues',\n",
    "            xticklabels=[\"Aneuploide (0)\", \"Euploide (1)\"],\n",
    "            yticklabels=[\"Aneuploide (0)\", \"Euploide (1)\"])\n",
    "plt.xlabel(\"Predito\")\n",
    "plt.ylabel(\"Real\")\n",
    "plt.title(\"Matriz de Confusão\")\n",
    "plt.tight_layout()\n",
    "plt.show()\n",
    "\n",
    "fpr, tpr, thresholds = roc_curve(y_test, y_proba)\n",
    "plt.figure()\n",
    "plt.plot(fpr, tpr, label=f\"ROC Curve (AUC = {auc:.2f})\")\n",
    "plt.plot([0, 1], [0, 1], linestyle='--', color='gray')\n",
    "plt.xlabel(\"Falso Positivo\")\n",
    "plt.ylabel(\"Verdadeiro Positivo\")\n",
    "plt.title(\"Curva ROC\")\n",
    "plt.legend()\n",
    "plt.grid(True)\n",
    "plt.tight_layout()\n",
    "plt.show()"
   ]
  },
  {
   "cell_type": "markdown",
   "id": "184a429b",
   "metadata": {},
   "source": [
    "# Modificar o código para:\n",
    "\n",
    "1. Armazenar a melhor tentativa com base em uma métrica de prioridade (usarei o AUC como critério principal).\n",
    "\n",
    "2. Mesmo que nenhuma das 50 tentativas atinja todos os critérios, ele exibirá o Relatório de Classificação, Curva ROC e Matriz de Confusão da melhor tentativa."
   ]
  },
  {
   "cell_type": "code",
   "execution_count": 2,
   "id": "4e1e73d1",
   "metadata": {},
   "outputs": [
    {
     "name": "stdout",
     "output_type": "stream",
     "text": [
      "Tentativa 1: accuracy=0.706, recall_1=0.750, recall_0=0.667, AUC=0.819\n",
      "Tentativa 2: accuracy=0.588, recall_1=0.500, recall_0=0.667, AUC=0.583\n",
      "Tentativa 3: accuracy=0.471, recall_1=0.250, recall_0=0.667, AUC=0.625\n",
      "Tentativa 4: accuracy=0.647, recall_1=0.375, recall_0=0.889, AUC=0.597\n",
      "Tentativa 5: accuracy=0.765, recall_1=0.625, recall_0=0.889, AUC=0.847\n",
      "Tentativa 6: accuracy=0.588, recall_1=0.500, recall_0=0.667, AUC=0.611\n",
      "Tentativa 7: accuracy=0.529, recall_1=0.375, recall_0=0.667, AUC=0.556\n",
      "Tentativa 8: accuracy=0.471, recall_1=0.375, recall_0=0.556, AUC=0.458\n",
      "Tentativa 9: accuracy=0.706, recall_1=0.750, recall_0=0.667, AUC=0.694\n",
      "Tentativa 10: accuracy=0.706, recall_1=0.500, recall_0=0.889, AUC=0.667\n",
      "Tentativa 11: accuracy=0.647, recall_1=0.500, recall_0=0.778, AUC=0.708\n",
      "Tentativa 12: accuracy=0.529, recall_1=0.375, recall_0=0.667, AUC=0.708\n",
      "Tentativa 13: accuracy=0.706, recall_1=0.625, recall_0=0.778, AUC=0.708\n",
      "Tentativa 14: accuracy=0.529, recall_1=0.375, recall_0=0.667, AUC=0.611\n",
      "Tentativa 15: accuracy=0.765, recall_1=0.625, recall_0=0.889, AUC=0.764\n",
      "Tentativa 16: accuracy=0.647, recall_1=0.625, recall_0=0.667, AUC=0.778\n",
      "Tentativa 17: accuracy=0.706, recall_1=0.750, recall_0=0.667, AUC=0.708\n",
      "Tentativa 18: accuracy=0.647, recall_1=0.500, recall_0=0.778, AUC=0.778\n",
      "Tentativa 19: accuracy=0.588, recall_1=0.500, recall_0=0.667, AUC=0.611\n",
      "Tentativa 20: accuracy=0.706, recall_1=0.625, recall_0=0.778, AUC=0.694\n",
      "Tentativa 21: accuracy=0.647, recall_1=0.500, recall_0=0.778, AUC=0.722\n",
      "Tentativa 22: accuracy=0.647, recall_1=0.625, recall_0=0.667, AUC=0.708\n",
      "Tentativa 23: accuracy=0.588, recall_1=0.625, recall_0=0.556, AUC=0.722\n",
      "Tentativa 24: accuracy=0.706, recall_1=0.375, recall_0=1.000, AUC=0.681\n",
      "Tentativa 25: accuracy=0.471, recall_1=0.375, recall_0=0.556, AUC=0.625\n",
      "Tentativa 26: accuracy=0.588, recall_1=0.250, recall_0=0.889, AUC=0.639\n",
      "Tentativa 27: accuracy=0.706, recall_1=0.750, recall_0=0.667, AUC=0.764\n",
      "Tentativa 28: accuracy=0.588, recall_1=0.375, recall_0=0.778, AUC=0.736\n",
      "Tentativa 29: accuracy=0.647, recall_1=0.500, recall_0=0.778, AUC=0.625\n",
      "Tentativa 30: accuracy=0.588, recall_1=0.500, recall_0=0.667, AUC=0.681\n",
      "Tentativa 31: accuracy=0.647, recall_1=0.500, recall_0=0.778, AUC=0.653\n",
      "Tentativa 32: accuracy=0.765, recall_1=0.750, recall_0=0.778, AUC=0.847\n",
      "Tentativa 33: accuracy=0.588, recall_1=0.375, recall_0=0.778, AUC=0.528\n",
      "Tentativa 34: accuracy=0.529, recall_1=0.375, recall_0=0.667, AUC=0.514\n",
      "Tentativa 35: accuracy=0.647, recall_1=0.500, recall_0=0.778, AUC=0.750\n",
      "Tentativa 36: accuracy=0.588, recall_1=0.500, recall_0=0.667, AUC=0.750\n",
      "Tentativa 37: accuracy=0.706, recall_1=0.625, recall_0=0.778, AUC=0.750\n",
      "Tentativa 38: accuracy=0.529, recall_1=0.375, recall_0=0.667, AUC=0.486\n",
      "Tentativa 39: accuracy=0.647, recall_1=0.500, recall_0=0.778, AUC=0.694\n",
      "Tentativa 40: accuracy=0.529, recall_1=0.375, recall_0=0.667, AUC=0.625\n",
      "Tentativa 41: accuracy=0.529, recall_1=0.375, recall_0=0.667, AUC=0.389\n",
      "Tentativa 42: accuracy=0.471, recall_1=0.250, recall_0=0.667, AUC=0.514\n",
      "Tentativa 43: accuracy=0.647, recall_1=0.625, recall_0=0.667, AUC=0.667\n",
      "Tentativa 44: accuracy=0.706, recall_1=0.625, recall_0=0.778, AUC=0.764\n",
      "Tentativa 45: accuracy=0.471, recall_1=0.500, recall_0=0.444, AUC=0.569\n",
      "Tentativa 46: accuracy=0.765, recall_1=0.750, recall_0=0.778, AUC=0.847\n",
      "Tentativa 47: accuracy=0.529, recall_1=0.375, recall_0=0.667, AUC=0.625\n",
      "Tentativa 48: accuracy=0.647, recall_1=0.625, recall_0=0.667, AUC=0.694\n",
      "Tentativa 49: accuracy=0.647, recall_1=0.625, recall_0=0.667, AUC=0.833\n",
      "Tentativa 50: accuracy=0.647, recall_1=0.500, recall_0=0.778, AUC=0.611\n",
      "\n",
      "=== RELATÓRIO DE CLASSIFICAÇÃO FINAL ===\n",
      "              precision    recall  f1-score   support\n",
      "\n",
      "           0       0.73      0.89      0.80         9\n",
      "           1       0.83      0.62      0.71         8\n",
      "\n",
      "    accuracy                           0.76        17\n",
      "   macro avg       0.78      0.76      0.76        17\n",
      "weighted avg       0.78      0.76      0.76        17\n",
      "\n"
     ]
    },
    {
     "data": {
      "image/png": "[encoded data removed]",
      "text/plain": [
       "<Figure size 600x500 with 2 Axes>"
      ]
     },
     "metadata": {},
     "output_type": "display_data"
    },
    {
     "data": {
      "image/png": "[encoded data removed]",
      "text/plain": [
       "<Figure size 640x480 with 1 Axes>"
      ]
     },
     "metadata": {},
     "output_type": "display_data"
    }
   ],
   "source": [
    "import pandas as pd\n",
    "import numpy as np\n",
    "import warnings\n",
    "from sklearn.exceptions import ConvergenceWarning\n",
    "from sklearn.model_selection import train_test_split\n",
    "from sklearn.preprocessing import StandardScaler\n",
    "from sklearn.neural_network import MLPClassifier\n",
    "from sklearn.metrics import classification_report, confusion_matrix, roc_auc_score, roc_curve\n",
    "import matplotlib.pyplot as plt\n",
    "import seaborn as sns\n",
    "\n",
    "# === CONFIGURAÇÃO DE AVISOS ===\n",
    "warnings.filterwarnings(\"ignore\", category=ConvergenceWarning)\n",
    "\n",
    "# === CARREGAR DADOS ORIGINAIS ===\n",
    "df_original = pd.read_excel(r\"PlanilhaNumerica.xlsx\")\n",
    "\n",
    "# === DIVISÃO EM TREINAMENTO E TESTE ===\n",
    "X_full = df_original.drop(columns=[\"Ploidia\"])\n",
    "y_full = df_original[\"Ploidia\"]\n",
    "X_train_base, X_test, y_train_base, y_test = train_test_split(X_full, y_full, test_size=0.2, stratify=y_full, random_state=42)\n",
    "\n",
    "df_train = pd.concat([X_train_base, y_train_base], axis=1)\n",
    "\n",
    "# === AUMENTO DE DADOS ===\n",
    "col_alvo = \"Ploidia\"\n",
    "numerical_columns = df_train.select_dtypes(include=['float64', 'int64']).columns.drop(col_alvo)\n",
    "categorical_columns = df_train.select_dtypes(include=['object']).columns.tolist() + [col_alvo]\n",
    "\n",
    "augmentation_factor = 30\n",
    "num_new_samples = len(df_train) * augmentation_factor\n",
    "new_samples = {}\n",
    "\n",
    "for col in numerical_columns:\n",
    "    mean = df_train[col].mean()\n",
    "    std = df_train[col].std()\n",
    "    generated = np.random.normal(loc=mean, scale=std, size=num_new_samples)\n",
    "    new_samples[col] = np.clip(generated, df_train[col].min(), df_train[col].max())\n",
    "\n",
    "df_new_samples = pd.DataFrame(new_samples)\n",
    "for col in categorical_columns:\n",
    "    df_new_samples[col] = np.random.choice(df_train[col], size=num_new_samples, replace=True)\n",
    "\n",
    "df_augmented = pd.concat([df_train, df_new_samples], ignore_index=True)\n",
    "\n",
    "# === TREINAMENTO COM PARÂMETROS DE PARADA ===\n",
    "melhor_modelo = None\n",
    "melhores_metricas = {\"accuracy\": 0, \"recall_1\": 0, \"recall_0\": 0, \"auc\": 0}\n",
    "X = df_augmented.drop(columns=[\"Ploidia\"])\n",
    "y = df_augmented[\"Ploidia\"]\n",
    "scaler = StandardScaler()\n",
    "X_scaled = scaler.fit_transform(X)\n",
    "X_test_scaled = scaler.transform(X_test)\n",
    "\n",
    "criterios = {\n",
    "    \"accuracy\": 0.80,\n",
    "    \"recall_1\": 0.75,\n",
    "    \"recall_0\": 0.75,\n",
    "    \"auc\": 0.85\n",
    "}\n",
    "\n",
    "for attempt in range(1, 51):\n",
    "    modelo = MLPClassifier(hidden_layer_sizes=(64, 32), max_iter=1000, activation='relu', solver='adam', random_state=attempt)\n",
    "    modelo.fit(X_scaled, y)\n",
    "    y_pred = modelo.predict(X_test_scaled)\n",
    "    y_proba = modelo.predict_proba(X_test_scaled)[:, 1]\n",
    "\n",
    "    cm = confusion_matrix(y_test, y_pred)\n",
    "    tn, fp, fn, tp = cm.ravel()\n",
    "    recall_1 = tp / (tp + fn) if (tp + fn) > 0 else 0\n",
    "    recall_0 = tn / (tn + fp) if (tn + fp) > 0 else 0\n",
    "    acc = (tp + tn) / (tp + tn + fp + fn)\n",
    "    auc = roc_auc_score(y_test, y_proba)\n",
    "\n",
    "    print(f\"Tentativa {attempt}: accuracy={acc:.3f}, recall_1={recall_1:.3f}, recall_0={recall_0:.3f}, AUC={auc:.3f}\")\n",
    "\n",
    "    if (\n",
    "        acc >= criterios[\"accuracy\"] and\n",
    "        recall_1 >= criterios[\"recall_1\"] and\n",
    "        recall_0 >= criterios[\"recall_0\"] and\n",
    "        auc >= criterios[\"auc\"]\n",
    "    ):\n",
    "        melhor_modelo = modelo\n",
    "        melhores_metricas = {\"accuracy\": acc, \"recall_1\": recall_1, \"recall_0\": recall_0, \"auc\": auc}\n",
    "        print(\"\\nCritérios atendidos! Parando o treinamento.\")\n",
    "        break\n",
    "\n",
    "    if auc > melhores_metricas[\"auc\"]:\n",
    "        melhor_modelo = modelo\n",
    "        melhores_metricas = {\"accuracy\": acc, \"recall_1\": recall_1, \"recall_0\": recall_0, \"auc\": auc}\n",
    "\n",
    "# === RELATÓRIO FINAL ===\n",
    "y_pred = melhor_modelo.predict(X_test_scaled)\n",
    "y_proba = melhor_modelo.predict_proba(X_test_scaled)[:, 1]\n",
    "\n",
    "print(\"\\n=== RELATÓRIO DE CLASSIFICAÇÃO FINAL ===\")\n",
    "print(classification_report(y_test, y_pred))\n",
    "\n",
    "# Matriz de Confusão\n",
    "cm = confusion_matrix(y_test, y_pred)\n",
    "plt.figure(figsize=(6, 5))\n",
    "sns.heatmap(cm, annot=True, fmt='d', cmap='Blues',\n",
    "            xticklabels=[\"Aneuploide (0)\", \"Euploide (1)\"],\n",
    "            yticklabels=[\"Aneuploide (0)\", \"Euploide (1)\"])\n",
    "plt.xlabel(\"Predito\")\n",
    "plt.ylabel(\"Real\")\n",
    "plt.title(\"Matriz de Confusão Final\")\n",
    "plt.tight_layout()\n",
    "plt.show()\n",
    "\n",
    "# Curva ROC\n",
    "fpr, tpr, thresholds = roc_curve(y_test, y_proba)\n",
    "auc = roc_auc_score(y_test, y_proba)\n",
    "\n",
    "plt.figure()\n",
    "plt.plot(fpr, tpr, label=f\"ROC Curve (AUC = {auc:.2f})\")\n",
    "plt.plot([0, 1], [0, 1], linestyle='--', color='gray')\n",
    "plt.xlabel(\"Falso Positivo\")\n",
    "plt.ylabel(\"Verdadeiro Positivo\")\n",
    "plt.title(\"Curva ROC Final\")\n",
    "plt.legend()\n",
    "plt.grid(True)\n",
    "plt.tight_layout()\n",
    "plt.show()"
   ]
  },
  {
   "cell_type": "markdown",
   "id": "ed8592ed",
   "metadata": {},
   "source": [
    "# PONTOS POSITIVOS:\n",
    "- Acurácia geral de 76% é boa, considerando o conjunto de teste pequeno (17 amostras).\n",
    "- Precisão para Euploide (classe 1) é 0.83, ou seja, quando o modelo prevê que um embrião é euploide, ele acerta com bastante frequência.\n",
    "- Recall para Aneuploide (classe 0) é 0.89, ou seja, o modelo é muito bom em identificar embriões aneuploides.\n",
    "\n",
    "# PONTOS DE ATENÇÃO:\n",
    "- Recall para Euploide (classe 1) é 0.62, o que significa que o modelo está deixando de identificar corretamente cerca de 38% dos euploides.\n",
    "- Classe minoritária sofre um pouco, o que é comum em bases pequenas com desequilíbrio.\n",
    "- O f1-score da classe 1 (0.71) mostra que ainda há espaço para melhoria na sensibilidade aos euploides.\n",
    "\n",
    "## MATRIZ DE CONFUSÃO\n",
    "- O modelo acertou 8 dos 9 aneuploides (ótimo).\n",
    "- Ele errou 3 dos 8 euploides, classificando como aneuploide — isso é o que puxa o recall da classe 1 para baixo.\n",
    "\n",
    "# CURVA ROC E AUC = 0.85\n",
    "A curva ROC apresentada mostra:\n",
    "- Um bom desempenho geral, com AUC = 0.85.\n",
    "- O modelo está conseguindo distinguir bem entre euploides e aneuploides.\n",
    "- A curva sobe rapidamente (true positive rate alto com baixo false positive rate), o que indica que o modelo está fazendo boas previsões com confiança.\n",
    "\n",
    "# INTERPRETAÇÃO:\n",
    "O modelo está muito bom em identificar embriões aneuploides, **mas perde um pouco de sensibilidade nos euploides**.\n",
    "\n",
    "Vale tentar:\n",
    "- Rebalancear o conjunto (oversampling da classe 1 no treinamento).\n",
    "- Ajustar o limiar de decisão (threshold) para melhorar o recall da classe 1.\n",
    "- Testar outras arquiteturas mais profundas ou com regularização diferente.\n",
    "\n",
    "# MELHORIAS NO MODELO ATUAL\n",
    "## O QUE MUDOU\n",
    "- Maior Acurácia Geral (de 65% → 76%)\n",
    "    - O modelo está acertando mais previsões no total.\n",
    "- Melhora significativa no desempenho com Euploides (Classe 1):\n",
    "    - Recall subiu de 0.38 → 0.62, ou seja, o modelo deixou de errar tantos euploides.\n",
    "    - F1-score subiu de 0.50 → 0.71, sinal de um equilíbrio melhor entre precisão e recall.\n",
    "    - Isso é muito importante em contexto clínico, pois aumenta as chances de detectar embriões viáveis.\n",
    "- Precisão também melhorou para classe 1 (0.75 → 0.83)\n",
    "    - Aumentou a confiança quando o modelo prevê um embrião como euploide.\n",
    "- A Matriz de Confusão confirma essa melhora:\n",
    "    - Antes o modelo errava 5 euploides (classificava como aneuploides). Agora só erra 3.\n",
    "\n",
    "## O QUE NÃO MUDOU\n",
    "O recall da classe 0 (aneuploides) se manteve em 0.89 — ótimo sinal de que as melhorias na classe 1 não sacrificaram o desempenho da classe 0.\n",
    "\n",
    "## SOBRE O AUC\n",
    "Curiosamente, o AUC caiu um pouco (0.89 → 0.85). Isso acontece porque a curva ROC é sensível à distribuição de probabilidades, e o modelo pode estar calibrado de forma mais conservadora. Porém, essa pequena queda é aceitável, dado o ganho prático em acertos de euploides.\n",
    "\n",
    "# Talvez próximos passos:\n",
    "1. Tentar recuperar o AUC com calibração de probabilidades (Platt scaling ou isotonic regression),\n",
    "2. Explorar ensembles para unir o melhor dos dois mundos."
   ]
  }
 ],
 "metadata": {
  "kernelspec": {
   "display_name": "Python 3",
   "language": "python",
   "name": "python3"
  },
  "language_info": {
   "codemirror_mode": {
    "name": "ipython",
    "version": 3
   },
   "file_extension": ".py",
   "mimetype": "text/x-python",
   "name": "python",
   "nbconvert_exporter": "python",
   "pygments_lexer": "ipython3",
   "version": "3.10.11"
  }
 },
 "nbformat": 4,
 "nbformat_minor": 5
}
