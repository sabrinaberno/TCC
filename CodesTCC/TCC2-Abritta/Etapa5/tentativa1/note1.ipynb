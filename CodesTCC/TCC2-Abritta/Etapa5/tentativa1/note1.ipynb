{
 "cells": [
  {
   "cell_type": "markdown",
   "id": "bd6a7a02",
   "metadata": {},
   "source": [
    "Redes neurais de classificação geralmente têm uma camada final com uma função sigmoid (para 1 saída) ou softmax (para múltiplas classes). Essa função entrega uma probabilidade entre 0 e 1 para cada classe.\n",
    "\n",
    "Peça a saída raw da última camada da rede, antes de tomar a decisão.\n",
    "Essa saída é a probabilidade da classe positiva (euploide).\n",
    "Multiplique por 100 para transformar em porcentagem."
   ]
  },
  {
   "cell_type": "code",
   "execution_count": 2,
   "id": "e52ddfb5",
   "metadata": {},
   "outputs": [
    {
     "name": "stdout",
     "output_type": "stream",
     "text": [
      "✅ Classificações salvas em 'Planilha_Com_Classificacao.xlsx'\n"
     ]
    }
   ],
   "source": [
    "import pandas as pd\n",
    "import joblib\n",
    "\n",
    "# === 1. Carrega a planilha com os dados dos embriões ===\n",
    "df = pd.read_excel(\"PlanilhaNumerica.xlsx\")\n",
    "\n",
    "# === 2. Carrega o modelo e o scaler treinados ===\n",
    "modelo = joblib.load(\"melhor_modelo_mlp2.pkl\")\n",
    "scaler = joblib.load(\"scaler_mlp2.pkl\")\n",
    "\n",
    "# === 3. Prepara os dados ===\n",
    "X = df.drop(columns=[\"Ploidia\"])  # Remove a resposta real\n",
    "X_scaled = scaler.transform(X)\n",
    "\n",
    "# === 4. Faz a predição da classe (0 ou 1) ===\n",
    "classes_preditas = modelo.predict(X_scaled)\n",
    "\n",
    "# === 5. Adiciona ao DataFrame original ===\n",
    "df[\"Classe_Prevista\"] = classes_preditas\n",
    "\n",
    "# === 6. Salva em nova planilha ===\n",
    "df.to_excel(\"Planilha_Com_Classificacao.xlsx\", index=False)\n",
    "\n",
    "print(\"✅ Classificações salvas em 'Planilha_Com_Classificacao.xlsx'\")"
   ]
  },
  {
   "cell_type": "markdown",
   "id": "b83bb460",
   "metadata": {},
   "source": [
    "## Pode testar isso aqui com a planilha nova de dados "
   ]
  },
  {
   "cell_type": "markdown",
   "id": "12b3ab7b",
   "metadata": {},
   "source": [
    "## Etapa 1: Lógica da Porcentagem\n",
    "\n",
    "Vamos usar as variáveis morfocinéticas e morfológicas da planilha. Para cada variável:\n",
    "\n",
    "- Se o valor do embrião estiver **na faixa favorável**, ele ganha a **pontuação cheia proporcional ao peso** daquela variável.\n",
    "- Se estiver **fora da faixa favorável**, ganha **zero** (ou um valor intermediário, se quisermos refinar depois com mais precisão ou uma função contínua).\n",
    "\n",
    "A **soma ponderada dos acertos** (variáveis que estiverem dentro da faixa favorável) dará a **porcentagem estimada de euploidia**, variando de **0 a 100**.\n",
    "\n",
    "## Etapa 1: Lógica da Porcentagem\n",
    "\n",
    "Vamos usar as variáveis morfocinéticas e morfológicas da planilha. Para cada variável:\n",
    "\n",
    "- Se o valor do embrião estiver **na faixa favorável**, ele ganha a **pontuação cheia proporcional ao peso** daquela variável.\n",
    "- Se estiver **fora da faixa favorável**, ganha **zero** (ou um valor intermediário, se quiser refinar depois com mais precisão ou uma função contínua).\n",
    "\n",
    "A **soma ponderada dos acertos** (variáveis que estiverem dentro da faixa favorável) dará a **porcentagem estimada de euploidia**, variando de **0 a 100**.\n",
    "\n",
    "---\n",
    "\n",
    "## Etapa 2: Pesos Normalizados (baseados na correlação de Spearman ou evidência)\n",
    "\n",
    "Aqui estão os pesos que usaremos, totalizando 100%:\n",
    "\n",
    "| Variável     | Peso (%) |\n",
    "|--------------|----------|\n",
    "| Idade        | 28.25    |\n",
    "| t5           | 13.56    |\n",
    "| tB - tSB     | 15.82    |\n",
    "| cc3          | 15.82    |\n",
    "| Estágio      | 10.00    |\n",
    "| KIDScore     | 10.00    |\n",
    "| Morfologia   | 10.00    |\n",
    "| s2           | 5.00     |\n",
    "| cc2          | 5.00     |\n",
    "| t5 - t2      | 5.00     |\n",
    "| **Total**    | **100**  |"
   ]
  },
  {
   "cell_type": "code",
   "execution_count": null,
   "id": "7f584464",
   "metadata": {},
   "outputs": [],
   "source": [
    "# === FUNÇÃO DE VERIFICAÇÃO DAS FAIXAS CLÍNICAS ===\n",
    "def in_range(valor, minimo, maximo):\n",
    "    return 1.0 if minimo <= valor <= maximo else 0.0\n",
    "\n",
    "def calcular_porcentagem(row):\n",
    "    score = 0.0\n",
    "    # pesos\n",
    "    pesos = {\n",
    "        'Idade': 28.25,\n",
    "        't5': 13.56,\n",
    "        'tB_tSB': 15.82,\n",
    "        'cc3': 15.82,\n",
    "        'Estágio': 10.00,\n",
    "        'KIDScore': 10.00,\n",
    "        'Morfo': 10.00,\n",
    "        's2': 5.00,\n",
    "        'cc2': 5.00,\n",
    "        't5_t2': 5.00\n",
    "    }\n",
    "\n",
    "    # pontuações\n",
    "    score += pesos['Idade'] if row['Idade'] < 30 else (0 if row['Idade'] > 37 else pesos['Idade'] * 0.5)\n",
    "    score += pesos['t5'] if in_range(row['t5'], 48.8, 56.6) else 0\n",
    "    score += pesos['tB_tSB'] if row['tB-tSB'] < 5 else 0\n",
    "    score += pesos['cc3'] if in_range(row['cc3 (t5-t3)'], 11, 14) else 0\n",
    "    score += pesos['Estágio'] if row['Estágio'] == 5 else 0\n",
    "    score += pesos['KIDScore'] if row['Kidscore'] >= 8 else 0\n",
    "    score += pesos['Morfo'] if row['Morfo'] in [4, 5] else 0\n",
    "    score += pesos['s2'] if in_range(row['s2 (t4-t3)'], 0.75, 5) else 0\n",
    "    score += pesos['cc2'] if in_range(row['cc2 (t3-t2)'], 7.5, 11.9) else 0\n",
    "    score += pesos['t5_t2'] if in_range(row['t5-t2'], 21, 32) else 0\n",
    "\n",
    "    return round(score, 2)\n",
    "\n",
    "# === APLICAR PARA TODOS OS EMBRIÕES ===\n",
    "df[\"Porcentagem_Euploidia_Estimada\"] = df.apply(calcular_porcentagem, axis=1)\n",
    "\n",
    "# === SALVAR A PLANILHA FINAL ===\n",
    "df.to_excel(\"Planilha_Com_Classificacao_e_Porcentagem.xlsx\", index=False)\n",
    "print(\"✅ Arquivo salvo com a porcentagem estimada de euploidia.\")"
   ]
  },
  {
   "cell_type": "markdown",
   "id": "5331195e",
   "metadata": {},
   "source": [
    "## parei em:\n",
    "- fazer ele classificar uma planilha, e retornar uma nova planilha somente com os euploides.\n",
    "- depois fazer a porcentagem de euploidia somente com essa"
   ]
  }
 ],
 "metadata": {
  "kernelspec": {
   "display_name": "Python 3",
   "language": "python",
   "name": "python3"
  },
  "language_info": {
   "codemirror_mode": {
    "name": "ipython",
    "version": 3
   },
   "file_extension": ".py",
   "mimetype": "text/x-python",
   "name": "python",
   "nbconvert_exporter": "python",
   "pygments_lexer": "ipython3",
   "version": "3.10.11"
  }
 },
 "nbformat": 4,
 "nbformat_minor": 5
}
